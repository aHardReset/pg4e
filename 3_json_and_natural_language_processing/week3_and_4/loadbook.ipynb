{
 "cells": [
  {
   "cell_type": "code",
   "execution_count": 2,
   "metadata": {},
   "outputs": [],
   "source": [
    "import psycopg2\n",
    "from pydantic_settings import BaseSettings\n",
    "from dotenv import load_dotenv\n",
    "from pathlib import Path\n",
    "\n",
    "load_dotenv()\n",
    "\n",
    "\n",
    "class Settings(BaseSettings): ..."
   ]
  },
  {
   "cell_type": "code",
   "execution_count": null,
   "metadata": {},
   "outputs": [],
   "source": [
    "# install psycopg2 (if needed)\n",
    "# pip3 install psycopg2    # (or pip)\n",
    "\n",
    "# https://www.pg4e.com/code/simple.py\n",
    "\n",
    "# https://www.pg4e.com/code/hidden-dist.py\n",
    "# copy hidden-dist.py to hidden.py\n",
    "# edit hidden.py and put in your credentials\n",
    "\n",
    "# python3 simple.py\n",
    "\n",
    "# To check the results, use psql and look at the\n",
    "# pythonfun table\n",
    "\n",
    "import psycopg2\n",
    "import hidden\n",
    "\n",
    "# Load the secrets\n",
    "secrets = hidden.secrets()\n",
    "\n",
    "conn = psycopg2.connect(\n",
    "    host=secrets[\"host\"],\n",
    "    port=secrets[\"port\"],\n",
    "    database=secrets[\"database\"],\n",
    "    user=secrets[\"user\"],\n",
    "    password=secrets[\"pass\"],\n",
    "    connect_timeout=3,\n",
    ")\n",
    "\n",
    "cur = conn.cursor()\n",
    "\n",
    "sql = \"DROP TABLE IF EXISTS pythonfun CASCADE;\"\n",
    "print(sql)\n",
    "cur.execute(sql)\n",
    "\n",
    "sql = \"CREATE TABLE pythonfun (id SERIAL, line TEXT);\"\n",
    "print(sql)\n",
    "cur.execute(sql)\n",
    "\n",
    "conn.commit()  # Flush it all to the DB server\n",
    "\n",
    "for i in range(10):\n",
    "    txt = \"Have a nice day \" + str(i)\n",
    "    sql = \"INSERT INTO pythonfun (line) VALUES (%s);\"\n",
    "    cur.execute(sql, (txt,))\n",
    "\n",
    "conn.commit()\n",
    "\n",
    "sql = \"SELECT id, line FROM pythonfun WHERE id=5;\"\n",
    "print(sql)\n",
    "cur.execute(sql)\n",
    "\n",
    "row = cur.fetchone()\n",
    "if row is None:\n",
    "    print(\"Row not found\")\n",
    "else:\n",
    "    print(\"Found\", row)\n",
    "\n",
    "sql = \"INSERT INTO pythonfun (line) VALUES (%s) RETURNING id;\"\n",
    "cur.execute(sql, (txt,))\n",
    "id = cur.fetchone()[0]\n",
    "print(\"New id\", id)\n",
    "\n",
    "# Lets make a mistake\n",
    "sql = \"SELECT line FROM pythonfun WHERE mistake=5;\"\n",
    "print(sql)\n",
    "cur.execute(sql)\n",
    "\n",
    "conn.commit()\n",
    "cur.close()"
   ]
  },
  {
   "cell_type": "code",
   "execution_count": 13,
   "metadata": {},
   "outputs": [],
   "source": [
    "def get_pseudo_random_number():\n",
    "    number = 74836\n",
    "    for i in range(300):\n",
    "        yield i + 1, number\n",
    "        number = int((number * 22) / 7) % 1000000"
   ]
  },
  {
   "cell_type": "code",
   "execution_count": 9,
   "metadata": {},
   "outputs": [
    {
     "name": "stdout",
     "output_type": "stream",
     "text": [
      "235198\n",
      "739193\n",
      "323178\n"
     ]
    }
   ],
   "source": [
    "secrets = hidden.secrets()\n",
    "\n",
    "conn = psycopg2.connect(\n",
    "    host=secrets[\"host\"],\n",
    "    port=secrets[\"port\"],\n",
    "    database=secrets[\"database\"],\n",
    "    user=secrets[\"user\"],\n",
    "    password=secrets[\"pass\"],\n",
    "    connect_timeout=3,\n",
    ")\n",
    "\n",
    "cur = conn.cursor()"
   ]
  },
  {
   "cell_type": "code",
   "execution_count": null,
   "metadata": {},
   "outputs": [],
   "source": [
    "def sql_drop_and_create_if_not_exists():\n",
    "    sql = \"DROP TABLE IF EXISTS pythonseq CASCADE;\"\n",
    "    print(sql)\n",
    "    cur.execute(sql)\n",
    "\n",
    "    sql = \"CREATE TABLE pythonseq (iter INTEGER, val INTEGER);\"\n",
    "    print(sql)\n",
    "    cur.execute(sql)\n",
    "    conn.commit()"
   ]
  },
  {
   "cell_type": "code",
   "execution_count": null,
   "metadata": {},
   "outputs": [],
   "source": [
    "for i, value in get_pseudo_random_number():\n",
    "    sql = f\"INSERT INTO pythonseq(iter, val) VALUES ({i}, {value})\"\n",
    "    print(sql)\n",
    "    cur.execute(sql)\n",
    "    if i % 50 == 0:\n",
    "        conn.commit()"
   ]
  },
  {
   "cell_type": "code",
   "execution_count": null,
   "metadata": {},
   "outputs": [],
   "source": [
    "import random\n",
    "\n",
    "\n",
    "class A:\n",
    "    ranks = [1, 2, 3]\n",
    "\n",
    "    def __init__(self) -> None:\n",
    "        self._cards = [4, 5, 6]\n",
    "\n",
    "    def __len__(self):\n",
    "        return len(self._cards)\n",
    "\n",
    "    def __getitem__(self, position):\n",
    "        return self._cards[position]\n",
    "\n",
    "\n",
    "deck = A()\n",
    "s = random.shuffle(deck)\n",
    "for card in s:\n",
    "    print(card)"
   ]
  },
  {
   "cell_type": "code",
   "execution_count": 9,
   "metadata": {},
   "outputs": [
    {
     "data": {
      "text/plain": [
       "[1, 4, 9]"
      ]
     },
     "execution_count": 9,
     "metadata": {},
     "output_type": "execute_result"
    }
   ],
   "source": [
    "a = [1, 2, 3]\n",
    "list(map(lambda x: x**2, a))"
   ]
  }
 ],
 "metadata": {
  "kernelspec": {
   "display_name": ".venv",
   "language": "python",
   "name": "python3"
  },
  "language_info": {
   "codemirror_mode": {
    "name": "ipython",
    "version": 3
   },
   "file_extension": ".py",
   "mimetype": "text/x-python",
   "name": "python",
   "nbconvert_exporter": "python",
   "pygments_lexer": "ipython3",
   "version": "3.11.5"
  }
 },
 "nbformat": 4,
 "nbformat_minor": 2
}
